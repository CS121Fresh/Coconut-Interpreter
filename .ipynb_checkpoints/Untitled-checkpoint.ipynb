{
 "cells": [
  {
   "cell_type": "code",
   "execution_count": 48,
   "metadata": {
    "collapsed": true
   },
   "outputs": [],
   "source": [
    "class WST:\n",
    "\n",
    "    # This is usd to initialize the tree\n",
    "    def __init__(self, rt=None, si=0, le=None, ri=None):\n",
    "        self.root = rt\n",
    "        self.size = si\n",
    "        self.right = ri\n",
    "        self.left = le\n",
    "    \n",
    "    # This is used to print the tree   \n",
    "    def __str__(self):\n",
    "        if (self == None):\n",
    "            print (\"None\")\n",
    "        else:\n",
    "             print(self.root,self.size,self.left,self.right)\n",
    "\n",
    "def insert(item, tree, alpha,rebalance = True):\n",
    "    # When our tree is empty, simply make a new tree, and return\n",
    "    # (new tree, 0)\n",
    "    if tree == None:\n",
    "        tree = WST(item,1)\n",
    "        return (tree,0)\n",
    "    else:\n",
    "        # If it is not new, add the size by 1\n",
    "        tree.size += 1\n",
    "        # check if it should go to right sub-tree or left sub-tree\n",
    "        if item > tree.root:\n",
    "            # if it goes to the right, our right sub-tree would \n",
    "            # be the new tree with item inserted in the right,\n",
    "            # and b will tells us if the tree is rebalanced anywhere \n",
    "            # in the process\n",
    "            tree.right,b = insert(item,tree.right,alpha,rebalance)\n",
    "            \n",
    "            # if the size of right sub-tree is too big after insertion\n",
    "            # balance it, return the new tree and 1\n",
    "            if (tree.right.size)/tree.size > alpha and rebalance == True:\n",
    "                balance(tree)\n",
    "                return (tree,1)\n",
    "        else:\n",
    "            # same process as before, but on the left tree\n",
    "            tree.left,b = insert(item,tree.left,alpha,rebalance)\n",
    "            if (tree.left.size) > (tree.size * alpha) and rebalance == True:\n",
    "                balance(tree)\n",
    "                return (tree,1)\n",
    "        return (tree,b)\n",
    "\n",
    "#  This part is used for inorder traversal so that we can get \n",
    "#  a sorted list to rebuild a new balanced tree\n",
    "def traverse(tree):\n",
    "    if tree == None:\n",
    "         return None\n",
    "    else:\n",
    "        return traverse(tree.left) + tree.root + traverse(tree.right)\n",
    "        \n",
    "def build(lst):\n",
    "    n = lst.size\n",
    "    # if our list has size 0, we are done building, return None\n",
    "    if n == 0:\n",
    "        return None\n",
    "    # if it is an odd number, take the middle number as root, \n",
    "    # if it is an even number, take the larger of the middle\n",
    "    # the size will be the size of list, and recursively\n",
    "    # calling build for left and right sub-trees\n",
    "    else:\n",
    "        return (lst[n/2],n,build(lst[0:n/2]),build(lst[n/2+1,:]))\n",
    "\n",
    "def balance(tree):\n",
    "    # make a sorted lst with our current tree\n",
    "    lst = traverse(tree)\n",
    "    # build a new tree using build method \n",
    "    tree = build(lst)"
   ]
  },
  {
   "cell_type": "code",
   "execution_count": 51,
   "metadata": {},
   "outputs": [
    {
     "ename": "RecursionError",
     "evalue": "maximum recursion depth exceeded",
     "output_type": "error",
     "traceback": [
      "\u001b[0;31m---------------------------------------------------------------------------\u001b[0m",
      "\u001b[0;31mRecursionError\u001b[0m                            Traceback (most recent call last)",
      "\u001b[0;32m<ipython-input-51-de10707c089f>\u001b[0m in \u001b[0;36m<module>\u001b[0;34m()\u001b[0m\n\u001b[1;32m      1\u001b[0m \u001b[0mtree\u001b[0m \u001b[0;34m=\u001b[0m \u001b[0;32mNone\u001b[0m\u001b[0;34m\u001b[0m\u001b[0m\n\u001b[1;32m      2\u001b[0m \u001b[0;32mfor\u001b[0m \u001b[0mi\u001b[0m \u001b[0;32min\u001b[0m \u001b[0mrange\u001b[0m\u001b[0;34m(\u001b[0m\u001b[0;36m0\u001b[0m\u001b[0;34m,\u001b[0m \u001b[0;36m6\u001b[0m\u001b[0;34m)\u001b[0m\u001b[0;34m:\u001b[0m\u001b[0;34m\u001b[0m\u001b[0m\n\u001b[0;32m----> 3\u001b[0;31m     \u001b[0mprint\u001b[0m\u001b[0;34m(\u001b[0m\u001b[0;34m\"inserting \"\u001b[0m\u001b[0;34m,\u001b[0m \u001b[0mi\u001b[0m\u001b[0;34m)\u001b[0m\u001b[0;34m\u001b[0m\u001b[0m\n\u001b[0m\u001b[1;32m      4\u001b[0m     \u001b[0mtree\u001b[0m\u001b[0;34m,\u001b[0m \u001b[0mwork\u001b[0m \u001b[0;34m=\u001b[0m \u001b[0minsert\u001b[0m\u001b[0;34m(\u001b[0m\u001b[0mi\u001b[0m\u001b[0;34m,\u001b[0m \u001b[0mtree\u001b[0m\u001b[0;34m,\u001b[0m \u001b[0;36m0.6\u001b[0m\u001b[0;34m)\u001b[0m\u001b[0;34m\u001b[0m\u001b[0m\n\u001b[1;32m      5\u001b[0m     \u001b[0mprint\u001b[0m\u001b[0;34m(\u001b[0m\u001b[0mtree\u001b[0m\u001b[0;34m,\u001b[0m \u001b[0mwork\u001b[0m\u001b[0;34m,\u001b[0m \u001b[0;34m\"\\n\"\u001b[0m\u001b[0;34m)\u001b[0m  \u001b[0;31m# work is the number of elements k in the rebalanced tree\u001b[0m\u001b[0;34m\u001b[0m\u001b[0m\n",
      "\u001b[0;32m<ipython-input-43-6c69730bb3da>\u001b[0m in \u001b[0;36mprint\u001b[0;34m(a, b)\u001b[0m\n\u001b[1;32m     11\u001b[0m \u001b[0;34m\u001b[0m\u001b[0m\n\u001b[1;32m     12\u001b[0m \u001b[0;32mdef\u001b[0m \u001b[0mprint\u001b[0m\u001b[0;34m(\u001b[0m\u001b[0ma\u001b[0m \u001b[0;34m=\u001b[0m \u001b[0;32mNone\u001b[0m\u001b[0;34m,\u001b[0m \u001b[0mb\u001b[0m \u001b[0;34m=\u001b[0m \u001b[0;32mNone\u001b[0m\u001b[0;34m)\u001b[0m\u001b[0;34m:\u001b[0m\u001b[0;34m\u001b[0m\u001b[0m\n\u001b[0;32m---> 13\u001b[0;31m     \u001b[0mprint\u001b[0m\u001b[0;34m(\u001b[0m\u001b[0ma\u001b[0m\u001b[0;34m)\u001b[0m\u001b[0;34m\u001b[0m\u001b[0m\n\u001b[0m\u001b[1;32m     14\u001b[0m     \u001b[0mprint\u001b[0m\u001b[0;34m(\u001b[0m\u001b[0mb\u001b[0m\u001b[0;34m)\u001b[0m\u001b[0;34m\u001b[0m\u001b[0m\n\u001b[1;32m     15\u001b[0m \u001b[0;34m\u001b[0m\u001b[0m\n",
      "... last 1 frames repeated, from the frame below ...\n",
      "\u001b[0;32m<ipython-input-43-6c69730bb3da>\u001b[0m in \u001b[0;36mprint\u001b[0;34m(a, b)\u001b[0m\n\u001b[1;32m     11\u001b[0m \u001b[0;34m\u001b[0m\u001b[0m\n\u001b[1;32m     12\u001b[0m \u001b[0;32mdef\u001b[0m \u001b[0mprint\u001b[0m\u001b[0;34m(\u001b[0m\u001b[0ma\u001b[0m \u001b[0;34m=\u001b[0m \u001b[0;32mNone\u001b[0m\u001b[0;34m,\u001b[0m \u001b[0mb\u001b[0m \u001b[0;34m=\u001b[0m \u001b[0;32mNone\u001b[0m\u001b[0;34m)\u001b[0m\u001b[0;34m:\u001b[0m\u001b[0;34m\u001b[0m\u001b[0m\n\u001b[0;32m---> 13\u001b[0;31m     \u001b[0mprint\u001b[0m\u001b[0;34m(\u001b[0m\u001b[0ma\u001b[0m\u001b[0;34m)\u001b[0m\u001b[0;34m\u001b[0m\u001b[0m\n\u001b[0m\u001b[1;32m     14\u001b[0m     \u001b[0mprint\u001b[0m\u001b[0;34m(\u001b[0m\u001b[0mb\u001b[0m\u001b[0;34m)\u001b[0m\u001b[0;34m\u001b[0m\u001b[0m\n\u001b[1;32m     15\u001b[0m \u001b[0;34m\u001b[0m\u001b[0m\n",
      "\u001b[0;31mRecursionError\u001b[0m: maximum recursion depth exceeded"
     ]
    }
   ],
   "source": [
    "tree = None\n",
    "for i in range(0, 6):\n",
    "    print(\"inserting \", i)\n",
    "    tree, work = insert(i, tree, 0.6)\n",
    "    print(tree, work, \"\\n\")  # work is the number of elements k in the rebalanced tree"
   ]
  },
  {
   "cell_type": "code",
   "execution_count": null,
   "metadata": {
    "collapsed": true
   },
   "outputs": [],
   "source": []
  },
  {
   "cell_type": "code",
   "execution_count": null,
   "metadata": {
    "collapsed": true
   },
   "outputs": [],
   "source": []
  },
  {
   "cell_type": "code",
   "execution_count": null,
   "metadata": {
    "collapsed": true
   },
   "outputs": [],
   "source": []
  }
 ],
 "metadata": {
  "kernelspec": {
   "display_name": "Python 3",
   "language": "python",
   "name": "python3"
  },
  "language_info": {
   "codemirror_mode": {
    "name": "ipython",
    "version": 3
   },
   "file_extension": ".py",
   "mimetype": "text/x-python",
   "name": "python",
   "nbconvert_exporter": "python",
   "pygments_lexer": "ipython3",
   "version": "3.6.3"
  }
 },
 "nbformat": 4,
 "nbformat_minor": 2
}
